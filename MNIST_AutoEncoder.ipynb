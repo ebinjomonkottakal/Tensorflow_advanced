{
  "nbformat": 4,
  "nbformat_minor": 0,
  "metadata": {
    "colab": {
      "provenance": [],
      "gpuType": "T4",
      "authorship_tag": "ABX9TyNfwC8UfzZEWIkeS3U6IkJR",
      "include_colab_link": true
    },
    "kernelspec": {
      "name": "python3",
      "display_name": "Python 3"
    },
    "language_info": {
      "name": "python"
    },
    "accelerator": "GPU",
    "gpuClass": "standard"
  },
  "cells": [
    {
      "cell_type": "markdown",
      "metadata": {
        "id": "view-in-github",
        "colab_type": "text"
      },
      "source": [
        "<a href=\"https://colab.research.google.com/github/ebinjomonkottakal/Tensorflow_advanced/blob/main/MNIST_AutoEncoder.ipynb\" target=\"_parent\"><img src=\"https://colab.research.google.com/assets/colab-badge.svg\" alt=\"Open In Colab\"/></a>"
      ]
    },
    {
      "cell_type": "code",
      "execution_count": 13,
      "metadata": {
        "id": "BWbTkQaIKF7l"
      },
      "outputs": [],
      "source": [
        "import tensorflow as tf\n",
        "import tensorflow_datasets as tfds\n",
        "import numpy as np\n",
        "import matplotlib.pyplot as plt"
      ]
    },
    {
      "cell_type": "markdown",
      "source": [
        "# Prepare the Dataset"
      ],
      "metadata": {
        "id": "4_0WYbhUKeFK"
      }
    },
    {
      "cell_type": "code",
      "source": [
        "def map_image(image,label):\n",
        "  image = tf.cast(image,tf.float32)\n",
        "  image = image/255.0\n",
        "  image = tf.reshape(image,shape=(784,))\n",
        "  return image,image"
      ],
      "metadata": {
        "id": "EB3xAfEkKbOn"
      },
      "execution_count": 14,
      "outputs": []
    },
    {
      "cell_type": "code",
      "source": [
        "# load the train and test sets from tfds\n",
        "BATCH_SIZE = 128\n",
        "SHUFFLE_BUFFER_SIZE = 1024\n",
        "train_dataset = tfds.load('mnist',as_supervised = True,split='train')\n",
        "train_dataset = train_dataset.map(map_image).shuffle(SHUFFLE_BUFFER_SIZE).batch(BATCH_SIZE).repeat()\n",
        "test_dataset = tfds.load('mnist',as_supervised=True,split='test')\n",
        "test_dataset = test_dataset.map(map_image).shuffle(SHUFFLE_BUFFER_SIZE).batch(BATCH_SIZE).repeat()"
      ],
      "metadata": {
        "id": "e6OyQ4hvLBOL"
      },
      "execution_count": 15,
      "outputs": []
    },
    {
      "cell_type": "markdown",
      "source": [
        "# Build the model"
      ],
      "metadata": {
        "id": "E1GgnQ77MCke"
      }
    },
    {
      "cell_type": "code",
      "source": [
        "def simple_autoencoder(inputs):\n",
        "  encoder = tf.keras.layers.Dense(units=32,activation='relu')(inputs)\n",
        "  decoder = tf.keras.layers.Dense(units=784,activation='sigmoid')(encoder)\n",
        "  return encoder,decoder\n",
        "\n",
        "inputs = tf.keras.layers.Input(shape=(784,))\n",
        "encoder_output, decoder_output = simple_autoencoder(inputs)\n",
        "encoder_model = tf.keras.Model(inputs=inputs,outputs = encoder_output)\n",
        "auto_encoder_model = tf.keras.Model(inputs=inputs,outputs = decoder_output)"
      ],
      "metadata": {
        "id": "fXmuL2RRL-5m"
      },
      "execution_count": 16,
      "outputs": []
    },
    {
      "cell_type": "code",
      "source": [
        "auto_encoder_model.compile(\n",
        "    optimizer = tf.keras.optimizers.Adam(),\n",
        "    loss = 'binary_crossentropy'\n",
        ")"
      ],
      "metadata": {
        "id": "72NYJspeNRx7"
      },
      "execution_count": 17,
      "outputs": []
    },
    {
      "cell_type": "code",
      "source": [
        "train_steps = 60000 // BATCH_SIZE\n",
        "simple_auto_history = auto_encoder_model.fit(train_dataset, steps_per_epoch=train_steps, epochs=50)"
      ],
      "metadata": {
        "colab": {
          "base_uri": "https://localhost:8080/"
        },
        "id": "rs_LR9JPNode",
        "outputId": "f2178196-e912-40c0-a502-5b21e07febd5"
      },
      "execution_count": 18,
      "outputs": [
        {
          "output_type": "stream",
          "name": "stdout",
          "text": [
            "Epoch 1/50\n",
            "468/468 [==============================] - 7s 11ms/step - loss: 0.2260\n",
            "Epoch 2/50\n",
            "468/468 [==============================] - 3s 7ms/step - loss: 0.1424\n",
            "Epoch 3/50\n",
            "468/468 [==============================] - 4s 9ms/step - loss: 0.1203\n",
            "Epoch 4/50\n",
            "468/468 [==============================] - 3s 7ms/step - loss: 0.1087\n",
            "Epoch 5/50\n",
            "468/468 [==============================] - 3s 7ms/step - loss: 0.1021\n",
            "Epoch 6/50\n",
            "468/468 [==============================] - 3s 7ms/step - loss: 0.0983\n",
            "Epoch 7/50\n",
            "468/468 [==============================] - 4s 8ms/step - loss: 0.0965\n",
            "Epoch 8/50\n",
            "468/468 [==============================] - 3s 7ms/step - loss: 0.0954\n",
            "Epoch 9/50\n",
            "468/468 [==============================] - 3s 7ms/step - loss: 0.0949\n",
            "Epoch 10/50\n",
            "468/468 [==============================] - 4s 9ms/step - loss: 0.0944\n",
            "Epoch 11/50\n",
            "468/468 [==============================] - 4s 8ms/step - loss: 0.0941\n",
            "Epoch 12/50\n",
            "468/468 [==============================] - 3s 6ms/step - loss: 0.0939\n",
            "Epoch 13/50\n",
            "468/468 [==============================] - 3s 6ms/step - loss: 0.0937\n",
            "Epoch 14/50\n",
            "468/468 [==============================] - 4s 8ms/step - loss: 0.0936\n",
            "Epoch 15/50\n",
            "468/468 [==============================] - 3s 7ms/step - loss: 0.0935\n",
            "Epoch 16/50\n",
            "468/468 [==============================] - 3s 7ms/step - loss: 0.0934\n",
            "Epoch 17/50\n",
            "468/468 [==============================] - 3s 7ms/step - loss: 0.0934\n",
            "Epoch 18/50\n",
            "468/468 [==============================] - 4s 9ms/step - loss: 0.0933\n",
            "Epoch 19/50\n",
            "468/468 [==============================] - 3s 7ms/step - loss: 0.0932\n",
            "Epoch 20/50\n",
            "468/468 [==============================] - 3s 7ms/step - loss: 0.0932\n",
            "Epoch 21/50\n",
            "468/468 [==============================] - 4s 8ms/step - loss: 0.0931\n",
            "Epoch 22/50\n",
            "468/468 [==============================] - 3s 7ms/step - loss: 0.0931\n",
            "Epoch 23/50\n",
            "468/468 [==============================] - 3s 6ms/step - loss: 0.0930\n",
            "Epoch 24/50\n",
            "468/468 [==============================] - 3s 7ms/step - loss: 0.0930\n",
            "Epoch 25/50\n",
            "468/468 [==============================] - 4s 8ms/step - loss: 0.0930\n",
            "Epoch 26/50\n",
            "468/468 [==============================] - 3s 6ms/step - loss: 0.0930\n",
            "Epoch 27/50\n",
            "468/468 [==============================] - 3s 7ms/step - loss: 0.0930\n",
            "Epoch 28/50\n",
            "468/468 [==============================] - 4s 8ms/step - loss: 0.0929\n",
            "Epoch 29/50\n",
            "468/468 [==============================] - 5s 10ms/step - loss: 0.0929\n",
            "Epoch 30/50\n",
            "468/468 [==============================] - 4s 8ms/step - loss: 0.0929\n",
            "Epoch 31/50\n",
            "468/468 [==============================] - 4s 7ms/step - loss: 0.0929\n",
            "Epoch 32/50\n",
            "468/468 [==============================] - 4s 8ms/step - loss: 0.0929\n",
            "Epoch 33/50\n",
            "468/468 [==============================] - 3s 7ms/step - loss: 0.0928\n",
            "Epoch 34/50\n",
            "468/468 [==============================] - 3s 7ms/step - loss: 0.0928\n",
            "Epoch 35/50\n",
            "468/468 [==============================] - 3s 7ms/step - loss: 0.0928\n",
            "Epoch 36/50\n",
            "468/468 [==============================] - 4s 9ms/step - loss: 0.0928\n",
            "Epoch 37/50\n",
            "468/468 [==============================] - 3s 7ms/step - loss: 0.0928\n",
            "Epoch 38/50\n",
            "468/468 [==============================] - 3s 7ms/step - loss: 0.0927\n",
            "Epoch 39/50\n",
            "468/468 [==============================] - 3s 7ms/step - loss: 0.0928\n",
            "Epoch 40/50\n",
            "468/468 [==============================] - 4s 8ms/step - loss: 0.0928\n",
            "Epoch 41/50\n",
            "468/468 [==============================] - 3s 7ms/step - loss: 0.0927\n",
            "Epoch 42/50\n",
            "468/468 [==============================] - 3s 6ms/step - loss: 0.0927\n",
            "Epoch 43/50\n",
            "468/468 [==============================] - 4s 8ms/step - loss: 0.0927\n",
            "Epoch 44/50\n",
            "468/468 [==============================] - 3s 7ms/step - loss: 0.0927\n",
            "Epoch 45/50\n",
            "468/468 [==============================] - 3s 7ms/step - loss: 0.0927\n",
            "Epoch 46/50\n",
            "468/468 [==============================] - 3s 7ms/step - loss: 0.0927\n",
            "Epoch 47/50\n",
            "468/468 [==============================] - 4s 9ms/step - loss: 0.0926\n",
            "Epoch 48/50\n",
            "468/468 [==============================] - 3s 6ms/step - loss: 0.0926\n",
            "Epoch 49/50\n",
            "468/468 [==============================] - 3s 7ms/step - loss: 0.0927\n",
            "Epoch 50/50\n",
            "468/468 [==============================] - 3s 7ms/step - loss: 0.0926\n"
          ]
        }
      ]
    },
    {
      "cell_type": "code",
      "source": [
        "def display_one_row(disp_images, offset, shape=(28, 28)):\n",
        "  '''Display sample outputs in one row.'''\n",
        "  for idx, test_image in enumerate(disp_images):\n",
        "    plt.subplot(3, 10, offset + idx + 1)\n",
        "    plt.xticks([])\n",
        "    plt.yticks([])\n",
        "    test_image = np.reshape(test_image, shape)\n",
        "    plt.imshow(test_image, cmap='gray')\n",
        "\n",
        "\n",
        "def display_results(disp_input_images, disp_encoded, disp_predicted, enc_shape=(8,4)):\n",
        "  '''Displays the input, encoded, and decoded output values.'''\n",
        "  plt.figure(figsize=(15, 5))\n",
        "  display_one_row(disp_input_images, 0, shape=(28,28,))\n",
        "  display_one_row(disp_encoded, 10, shape=enc_shape)\n",
        "  display_one_row(disp_predicted, 20, shape=(28,28,))"
      ],
      "metadata": {
        "id": "NElaeDYUNvIY"
      },
      "execution_count": 19,
      "outputs": []
    },
    {
      "cell_type": "code",
      "source": [
        "# take 1 batch of the dataset\n",
        "test_dataset = test_dataset.take(1)\n",
        "\n",
        "# take the input images and put them in a list\n",
        "output_samples = []\n",
        "for input_image, image in tfds.as_numpy(test_dataset):\n",
        "      output_samples = input_image\n",
        "\n",
        "# pick 10 random numbers to be used as indices to the list above\n",
        "idxs = np.random.choice(BATCH_SIZE, size=10)\n",
        "\n",
        "# get the encoder output\n",
        "encoded_predicted = encoder_model.predict(test_dataset)\n",
        "\n",
        "# get a prediction for the test batch\n",
        "simple_predicted = auto_encoder_model.predict(test_dataset)\n",
        "\n",
        "# display the 10 samples, encodings and decoded values!\n",
        "display_results(output_samples[idxs], encoded_predicted[idxs], simple_predicted[idxs])"
      ],
      "metadata": {
        "colab": {
          "base_uri": "https://localhost:8080/",
          "height": 439
        },
        "id": "YA3jkiSRN3un",
        "outputId": "dbf100e5-9cfa-4557-8599-4cf5675cc500"
      },
      "execution_count": 20,
      "outputs": [
        {
          "output_type": "stream",
          "name": "stdout",
          "text": [
            "1/1 [==============================] - 0s 262ms/step\n",
            "1/1 [==============================] - 0s 230ms/step\n"
          ]
        },
        {
          "output_type": "display_data",
          "data": {
            "text/plain": [
              "<Figure size 1500x500 with 30 Axes>"
            ],
            "image/png": "[encoded data removed]"
          },
          "metadata": {}
        }
      ]
    }
  ]
}