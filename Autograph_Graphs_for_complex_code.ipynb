{
  "nbformat": 4,
  "nbformat_minor": 0,
  "metadata": {
    "colab": {
      "provenance": [],
      "authorship_tag": "ABX9TyMYQMaicXBB546PPPR6EYRN",
      "include_colab_link": true
    },
    "kernelspec": {
      "name": "python3",
      "display_name": "Python 3"
    },
    "language_info": {
      "name": "python"
    }
  },
  "cells": [
    {
      "cell_type": "markdown",
      "metadata": {
        "id": "view-in-github",
        "colab_type": "text"
      },
      "source": [
        "<a href=\"https://colab.research.google.com/github/ebinjomonkottakal/Tensorflow_advanced/blob/main/Autograph_Graphs_for_complex_code.ipynb\" target=\"_parent\"><img src=\"https://colab.research.google.com/assets/colab-badge.svg\" alt=\"Open In Colab\"/></a>"
      ]
    },
    {
      "cell_type": "markdown",
      "source": [
        "# **Simple functions can sometimes be difficult to write in graph mode. Fortunately, Autograph generates this complex graph code for us.**"
      ],
      "metadata": {
        "id": "cKoWnFalrhMf"
      }
    },
    {
      "cell_type": "code",
      "source": [
        "import tensorflow as tf"
      ],
      "metadata": {
        "id": "s0Rl1vdKahc-"
      },
      "execution_count": 2,
      "outputs": []
    },
    {
      "cell_type": "code",
      "execution_count": 3,
      "metadata": {
        "id": "C1gYL860aHeu"
      },
      "outputs": [],
      "source": [
        "a = tf.Variable(1.0)\n",
        "b = tf.Variable(2.0)"
      ]
    },
    {
      "cell_type": "code",
      "source": [
        "# Here is a function that does some multiplication and additon\n",
        "@tf.function\n",
        "def f(x,y):\n",
        "  a.assign(y*b)\n",
        "  b.assign_add(x*a)\n",
        "  return a+b\n",
        "print(f(1.0,2.0))\n",
        "print(tf.autograph.to_code(f.python_function))"
      ],
      "metadata": {
        "colab": {
          "base_uri": "https://localhost:8080/"
        },
        "id": "v6v3VFcuaZBK",
        "outputId": "e0db29a5-1a5b-4f91-9071-1876dd1330df"
      },
      "execution_count": 4,
      "outputs": [
        {
          "output_type": "stream",
          "name": "stdout",
          "text": [
            "tf.Tensor(10.0, shape=(), dtype=float32)\n",
            "def tf__f(x, y):\n",
            "    with ag__.FunctionScope('f', 'fscope', ag__.ConversionOptions(recursive=True, user_requested=True, optional_features=(), internal_convert_user_code=True)) as fscope:\n",
            "        do_return = False\n",
            "        retval_ = ag__.UndefinedReturnValue()\n",
            "        ag__.converted_call(ag__.ld(a).assign, (ag__.ld(y) * ag__.ld(b),), None, fscope)\n",
            "        ag__.converted_call(ag__.ld(b).assign_add, (ag__.ld(x) * ag__.ld(a),), None, fscope)\n",
            "        try:\n",
            "            do_return = True\n",
            "            retval_ = ag__.ld(a) + ag__.ld(b)\n",
            "        except:\n",
            "            do_return = False\n",
            "            raise\n",
            "        return fscope.ret(retval_, do_return)\n",
            "\n"
          ]
        }
      ]
    },
    {
      "cell_type": "code",
      "source": [
        "# Here is a function that checks if the sign of a number is positive or not.\n",
        "@tf.function\n",
        "def sign(x):\n",
        "  if x>0:\n",
        "    return 'Positive'\n",
        "  else:\n",
        "    return 'Negative or zero'\n",
        "print(\"sign is : {}\".format(sign(tf.constant(2))))\n",
        "print('sign is : {}'.format(sign(tf.constant(-2))))\n",
        "print(tf.autograph.to_code(sign.python_function))"
      ],
      "metadata": {
        "colab": {
          "base_uri": "https://localhost:8080/"
        },
        "id": "OAetcaYSbItI",
        "outputId": "19d42a02-43d6-4c1c-b9c3-bdf8a57e4ad5"
      },
      "execution_count": 5,
      "outputs": [
        {
          "output_type": "stream",
          "name": "stdout",
          "text": [
            "sign is : b'Positive'\n",
            "sign is : b'Negative or zero'\n",
            "def tf__sign(x):\n",
            "    with ag__.FunctionScope('sign', 'fscope', ag__.ConversionOptions(recursive=True, user_requested=True, optional_features=(), internal_convert_user_code=True)) as fscope:\n",
            "        do_return = False\n",
            "        retval_ = ag__.UndefinedReturnValue()\n",
            "\n",
            "        def get_state():\n",
            "            return (do_return, retval_)\n",
            "\n",
            "        def set_state(vars_):\n",
            "            nonlocal retval_, do_return\n",
            "            (do_return, retval_) = vars_\n",
            "\n",
            "        def if_body():\n",
            "            nonlocal retval_, do_return\n",
            "            try:\n",
            "                do_return = True\n",
            "                retval_ = 'Positive'\n",
            "            except:\n",
            "                do_return = False\n",
            "                raise\n",
            "\n",
            "        def else_body():\n",
            "            nonlocal retval_, do_return\n",
            "            try:\n",
            "                do_return = True\n",
            "                retval_ = 'Negative or zero'\n",
            "            except:\n",
            "                do_return = False\n",
            "                raise\n",
            "        ag__.if_stmt(ag__.ld(x) > 0, if_body, else_body, get_state, set_state, ('do_return', 'retval_'), 2)\n",
            "        return fscope.ret(retval_, do_return)\n",
            "\n"
          ]
        }
      ]
    },
    {
      "cell_type": "code",
      "source": [
        "# Here is another function that includes a while loop.\n",
        "@tf.function\n",
        "def f(x):\n",
        "  while tf.reduced_sum(x)>0:\n",
        "    tf.print(x)\n",
        "    x = tf.tanh(x)\n",
        "  return x\n",
        "print(tf.autograph.to_code(f.python_function))"
      ],
      "metadata": {
        "colab": {
          "base_uri": "https://localhost:8080/"
        },
        "id": "x6PYXi-cp5m5",
        "outputId": "06c9cd33-b466-4524-ae76-657f0351219d"
      },
      "execution_count": 7,
      "outputs": [
        {
          "output_type": "stream",
          "name": "stdout",
          "text": [
            "def tf__f(x):\n",
            "    with ag__.FunctionScope('f', 'fscope', ag__.ConversionOptions(recursive=True, user_requested=True, optional_features=(), internal_convert_user_code=True)) as fscope:\n",
            "        do_return = False\n",
            "        retval_ = ag__.UndefinedReturnValue()\n",
            "\n",
            "        def get_state():\n",
            "            return (x,)\n",
            "\n",
            "        def set_state(vars_):\n",
            "            nonlocal x\n",
            "            (x,) = vars_\n",
            "\n",
            "        def loop_body():\n",
            "            nonlocal x\n",
            "            ag__.converted_call(ag__.ld(tf).print, (ag__.ld(x),), None, fscope)\n",
            "            x = ag__.converted_call(ag__.ld(tf).tanh, (ag__.ld(x),), None, fscope)\n",
            "\n",
            "        def loop_test():\n",
            "            return ag__.converted_call(ag__.ld(tf).reduced_sum, (ag__.ld(x),), None, fscope) > 0\n",
            "        ag__.while_stmt(loop_test, loop_body, get_state, set_state, ('x',), {})\n",
            "        try:\n",
            "            do_return = True\n",
            "            retval_ = ag__.ld(x)\n",
            "        except:\n",
            "            do_return = False\n",
            "            raise\n",
            "        return fscope.ret(retval_, do_return)\n",
            "\n"
          ]
        }
      ]
    },
    {
      "cell_type": "code",
      "source": [
        "# Here is a function that uses a for loop and an if statement.\n",
        "@tf.function\n",
        "def sum_even(items):\n",
        "    s = 0\n",
        "    for c in items:\n",
        "        if c % 2 > 0:\n",
        "            continue\n",
        "        s += c\n",
        "    return s\n",
        "\n",
        "print(tf.autograph.to_code(sum_even.python_function))"
      ],
      "metadata": {
        "colab": {
          "base_uri": "https://localhost:8080/"
        },
        "id": "ovvEutLMrESt",
        "outputId": "97f15deb-5e5f-44e7-bb3a-54eaaee8279c"
      },
      "execution_count": 8,
      "outputs": [
        {
          "output_type": "stream",
          "name": "stdout",
          "text": [
            "def tf__sum_even(items):\n",
            "    with ag__.FunctionScope('sum_even', 'fscope', ag__.ConversionOptions(recursive=True, user_requested=True, optional_features=(), internal_convert_user_code=True)) as fscope:\n",
            "        do_return = False\n",
            "        retval_ = ag__.UndefinedReturnValue()\n",
            "        s = 0\n",
            "\n",
            "        def get_state_2():\n",
            "            return (s,)\n",
            "\n",
            "        def set_state_2(vars_):\n",
            "            nonlocal s\n",
            "            (s,) = vars_\n",
            "\n",
            "        def loop_body(itr):\n",
            "            nonlocal s\n",
            "            c = itr\n",
            "            continue_ = False\n",
            "\n",
            "            def get_state():\n",
            "                return (continue_,)\n",
            "\n",
            "            def set_state(vars_):\n",
            "                nonlocal continue_\n",
            "                (continue_,) = vars_\n",
            "\n",
            "            def if_body():\n",
            "                nonlocal continue_\n",
            "                continue_ = True\n",
            "\n",
            "            def else_body():\n",
            "                nonlocal continue_\n",
            "                pass\n",
            "            ag__.if_stmt(ag__.ld(c) % 2 > 0, if_body, else_body, get_state, set_state, ('continue_',), 1)\n",
            "\n",
            "            def get_state_1():\n",
            "                return (s,)\n",
            "\n",
            "            def set_state_1(vars_):\n",
            "                nonlocal s\n",
            "                (s,) = vars_\n",
            "\n",
            "            def if_body_1():\n",
            "                nonlocal s\n",
            "                s = ag__.ld(s)\n",
            "                s += c\n",
            "\n",
            "            def else_body_1():\n",
            "                nonlocal s\n",
            "                pass\n",
            "            ag__.if_stmt(ag__.not_(continue_), if_body_1, else_body_1, get_state_1, set_state_1, ('s',), 1)\n",
            "        continue_ = ag__.Undefined('continue_')\n",
            "        c = ag__.Undefined('c')\n",
            "        ag__.for_stmt(ag__.ld(items), None, loop_body, get_state_2, set_state_2, ('s',), {'iterate_names': 'c'})\n",
            "        try:\n",
            "            do_return = True\n",
            "            retval_ = ag__.ld(s)\n",
            "        except:\n",
            "            do_return = False\n",
            "            raise\n",
            "        return fscope.ret(retval_, do_return)\n",
            "\n"
          ]
        }
      ]
    }
  ]
}