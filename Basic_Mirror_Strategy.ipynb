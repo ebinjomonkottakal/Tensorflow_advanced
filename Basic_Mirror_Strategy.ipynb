{
  "nbformat": 4,
  "nbformat_minor": 0,
  "metadata": {
    "colab": {
      "provenance": [],
      "authorship_tag": "ABX9TyM3sVQPca3RKYEWaQqQHQy0",
      "include_colab_link": true
    },
    "kernelspec": {
      "name": "python3",
      "display_name": "Python 3"
    },
    "language_info": {
      "name": "python"
    },
    "accelerator": "GPU",
    "gpuClass": "standard"
  },
  "cells": [
    {
      "cell_type": "markdown",
      "metadata": {
        "id": "view-in-github",
        "colab_type": "text"
      },
      "source": [
        "<a href=\"https://colab.research.google.com/github/ebinjomonkottakal/Tensorflow_advanced/blob/main/Basic_Mirror_Strategy.ipynb\" target=\"_parent\"><img src=\"https://colab.research.google.com/assets/colab-badge.svg\" alt=\"Open In Colab\"/></a>"
      ]
    },
    {
      "cell_type": "markdown",
      "source": [
        "**Imports**"
      ],
      "metadata": {
        "id": "YDmBHxbvQXH1"
      }
    },
    {
      "cell_type": "code",
      "source": [],
      "metadata": {
        "id": "xcc6rFXtXEMV"
      },
      "execution_count": null,
      "outputs": []
    },
    {
      "cell_type": "markdown",
      "source": [
        "# Mirrored Strategy: Basic"
      ],
      "metadata": {
        "id": "nWcpfcOdXEr5"
      }
    },
    {
      "cell_type": "code",
      "execution_count": 1,
      "metadata": {
        "id": "NcNljU6zPs7v"
      },
      "outputs": [],
      "source": [
        "# imports \n",
        "import tensorflow as tf\n",
        "import tensorflow_datasets as tfds\n",
        "import os\n",
        "tfds.disable_progress_bar()"
      ]
    },
    {
      "cell_type": "markdown",
      "source": [
        "Load the MNIST dataset and split it into training and test chunks."
      ],
      "metadata": {
        "id": "amtD8xglQg7h"
      }
    },
    {
      "cell_type": "code",
      "source": [
        "datasets,info = tfds.load('mnist',with_info = True,as_supervised = True)\n",
        "mnist_train,mnist_test = datasets['train'], datasets['test']"
      ],
      "metadata": {
        "colab": {
          "base_uri": "https://localhost:8080/"
        },
        "id": "gOMhDwg1QOsQ",
        "outputId": "3ca84fb1-db77-4e75-bce1-4b65baa9e933"
      },
      "execution_count": 2,
      "outputs": [
        {
          "output_type": "stream",
          "name": "stdout",
          "text": [
            "Downloading and preparing dataset Unknown size (download: Unknown size, generated: Unknown size, total: Unknown size) to /root/tensorflow_datasets/mnist/3.0.1...\n",
            "Dataset mnist downloaded and prepared to /root/tensorflow_datasets/mnist/3.0.1. Subsequent calls will reuse this data.\n"
          ]
        }
      ]
    },
    {
      "cell_type": "code",
      "source": [
        "# Define the strategy to use and print the number of devices found\n",
        "strategy = tf.distribute.MirroredStrategy()\n",
        "print(\"Numeber of GPU's: {}\".format(strategy.num_replicas_in_sync))"
      ],
      "metadata": {
        "colab": {
          "base_uri": "https://localhost:8080/"
        },
        "id": "suF24u1IRQkZ",
        "outputId": "b6a87cd8-db8d-4290-b49e-09afd30c0ee0"
      },
      "execution_count": 3,
      "outputs": [
        {
          "output_type": "stream",
          "name": "stdout",
          "text": [
            "Numeber of GPU's: 1\n"
          ]
        }
      ]
    },
    {
      "cell_type": "code",
      "source": [
        "# Get the number of examples in the train and test sets\n",
        "num_train_examples = info.splits['train'].num_examples\n",
        "num_test_examples = info.splits['test'].num_examples\n",
        "\n",
        "BUFFER_SIZE = 10000\n",
        "BATCH_SIZE_PER_REPLICA = 64\n",
        "BATCH_SIZE = BATCH_SIZE_PER_REPLICA * strategy.num_replicas_in_sync"
      ],
      "metadata": {
        "id": "m7ZqhX3LRz9f"
      },
      "execution_count": 4,
      "outputs": []
    },
    {
      "cell_type": "code",
      "source": [
        "# Normalise image\n",
        "def scale(img,label):\n",
        "  image = tf.cast(img,tf.float32)\n",
        "  image/=225\n",
        "  return img,label"
      ],
      "metadata": {
        "id": "8gJNS087Tm4K"
      },
      "execution_count": 5,
      "outputs": []
    },
    {
      "cell_type": "code",
      "source": [
        "# Set up train and eval dataset\n",
        "train_dataset = mnist_train.map(scale).cache().shuffle(BUFFER_SIZE).batch(BATCH_SIZE)\n",
        "test_dataset = mnist_test.map(scale).batch(BATCH_SIZE)"
      ],
      "metadata": {
        "id": "K4u2vk0CT_C0"
      },
      "execution_count": 6,
      "outputs": []
    },
    {
      "cell_type": "code",
      "source": [
        "with strategy.scope():\n",
        "  model = tf.keras.Sequential([\n",
        "      tf.keras.layers.Conv2D(32,3,activation = 'relu',input_shape = (28,28,1)),\n",
        "      tf.keras.layers.MaxPooling2D(),\n",
        "      tf.keras.layers.Flatten(),\n",
        "      tf.keras.layers.Dense(64,activation = 'relu'),\n",
        "      tf.keras.layers.Dense(10)\n",
        "  ])"
      ],
      "metadata": {
        "id": "lsz7tdtrUtNk"
      },
      "execution_count": 7,
      "outputs": []
    },
    {
      "cell_type": "code",
      "source": [
        "model.compile(loss = tf.keras.losses.SparseCategoricalCrossentropy(from_logits = True),optimizer = tf.keras.optimizers.Adam(),metrics = ['accuracy'])"
      ],
      "metadata": {
        "id": "itzsbhjbVuFK"
      },
      "execution_count": 9,
      "outputs": []
    },
    {
      "cell_type": "code",
      "source": [
        "model.fit(train_dataset,epochs = 12)"
      ],
      "metadata": {
        "colab": {
          "base_uri": "https://localhost:8080/"
        },
        "id": "82TJF8jLWNdi",
        "outputId": "b664ccef-a2c0-4ca9-8355-627c39c494ca"
      },
      "execution_count": 10,
      "outputs": [
        {
          "output_type": "stream",
          "name": "stdout",
          "text": [
            "Epoch 1/12\n",
            "938/938 [==============================] - 19s 8ms/step - loss: 0.5223 - accuracy: 0.9156\n",
            "Epoch 2/12\n",
            "938/938 [==============================] - 4s 5ms/step - loss: 0.0940 - accuracy: 0.9732\n",
            "Epoch 3/12\n",
            "938/938 [==============================] - 4s 5ms/step - loss: 0.0598 - accuracy: 0.9816\n",
            "Epoch 4/12\n",
            "938/938 [==============================] - 5s 5ms/step - loss: 0.0439 - accuracy: 0.9864\n",
            "Epoch 5/12\n",
            "938/938 [==============================] - 4s 4ms/step - loss: 0.0351 - accuracy: 0.9889\n",
            "Epoch 6/12\n",
            "938/938 [==============================] - 5s 5ms/step - loss: 0.0294 - accuracy: 0.9905\n",
            "Epoch 7/12\n",
            "938/938 [==============================] - 5s 5ms/step - loss: 0.0282 - accuracy: 0.9911\n",
            "Epoch 8/12\n",
            "938/938 [==============================] - 4s 5ms/step - loss: 0.0244 - accuracy: 0.9921\n",
            "Epoch 9/12\n",
            "938/938 [==============================] - 5s 5ms/step - loss: 0.0239 - accuracy: 0.9924\n",
            "Epoch 10/12\n",
            "938/938 [==============================] - 4s 5ms/step - loss: 0.0178 - accuracy: 0.9942\n",
            "Epoch 11/12\n",
            "938/938 [==============================] - 5s 5ms/step - loss: 0.0146 - accuracy: 0.9953\n",
            "Epoch 12/12\n",
            "938/938 [==============================] - 5s 5ms/step - loss: 0.0190 - accuracy: 0.9942\n"
          ]
        },
        {
          "output_type": "execute_result",
          "data": {
            "text/plain": [
              "<keras.callbacks.History at 0x7fb8a1ed6410>"
            ]
          },
          "metadata": {},
          "execution_count": 10
        }
      ]
    },
    {
      "cell_type": "code",
      "source": [],
      "metadata": {
        "id": "dXUBoXFuWlSP"
      },
      "execution_count": null,
      "outputs": []
    }
  ]
}